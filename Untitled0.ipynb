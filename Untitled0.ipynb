{
  "nbformat": 4,
  "nbformat_minor": 0,
  "metadata": {
    "colab": {
      "provenance": [],
      "authorship_tag": "ABX9TyOXjOAvl+aBIw2RlE59Hnud",
      "include_colab_link": true
    },
    "kernelspec": {
      "name": "python3",
      "display_name": "Python 3"
    },
    "language_info": {
      "name": "python"
    }
  },
  "cells": [
    {
      "cell_type": "markdown",
      "metadata": {
        "id": "view-in-github",
        "colab_type": "text"
      },
      "source": [
        "<a href=\"https://colab.research.google.com/github/nidawahid7768/Project_4-/blob/main/Untitled0.ipynb\" target=\"_parent\"><img src=\"https://colab.research.google.com/assets/colab-badge.svg\" alt=\"Open In Colab\"/></a>"
      ]
    },
    {
      "cell_type": "code",
      "execution_count": null,
      "metadata": {
        "id": "dRz8Zedc4BHl"
      },
      "outputs": [],
      "source": [
        "\n",
        "\n",
        "import random\n",
        "\n",
        "NUM_SIDES = 6\n",
        "\n",
        "def roll_dice():\n",
        "    die1 = random.randint(1, NUM_SIDES)\n",
        "    die2 = random.randint(1, NUM_SIDES)\n",
        "    total = die1 + die2\n",
        "    print(f\"Die 1: {die1}, Die 2: {die2}, Total: {total}\")\n",
        "\n",
        "def main():\n",
        "    die1 =   10\n",
        "    print(f\"die1 in main() starts as {die1}\")\n",
        "\n",
        "    for _ in range(3):\n",
        "        roll_dice()\n",
        "        print(f\"die1 in main() is still {die1}\")\n",
        "\n",
        "if __name__ == \"__main__\":\n",
        "    main()\n"
      ]
    },
    {
      "cell_type": "code",
      "source": [
        "C: int = 299792458\n",
        "\n",
        "def main():\n",
        "    mass_in_kg: float = float(input(\"\\033[1;3m Enter kilos of mass: \\033[0m\"))\n",
        "\n",
        "\n",
        "    energy_in_joules: float = mass_in_kg * (C ** 2)\n",
        "\n",
        "\n",
        "    print(\"e = m * C^2...\")\n",
        "    print(\"m = \" + str(mass_in_kg) + \" kg\")\n",
        "    print(\"C = \" + str(C) + \" m/s\")\n",
        "\n",
        "    print(str(energy_in_joules) + \" joules of energy!\")\n",
        "\n",
        "\n",
        "if __name__ == '__main__':\n",
        "    main()"
      ],
      "metadata": {
        "id": "bwoiPbF_4srN"
      },
      "execution_count": null,
      "outputs": []
    },
    {
      "cell_type": "code",
      "source": [
        "\n",
        "\n",
        "INCHES_IN_FOOT: int = 12\n",
        "\n",
        "def main():\n",
        "    feet: float = float(input(\"Enter number of feet: \"))\n",
        "    inches: float = feet * INCHES_IN_FOOT\n",
        "    print(\"That is\", inches, \"inches!\")\n",
        "\n",
        "\n",
        "\n",
        "if __name__ == '__main__':\n",
        "    main()"
      ],
      "metadata": {
        "id": "gX93u1hZ42cx"
      },
      "execution_count": null,
      "outputs": []
    },
    {
      "cell_type": "code",
      "source": [
        "import math\n",
        "\n",
        "def main():\n",
        "    ab = float(input(\"\\033[1;3m Enter the length of the side AB: \\033[0m\"))\n",
        "    ac = float(input(\"\\033[1;3m Enter the length of the side BC: \\033[0m\"))\n",
        "\n",
        "    bc = math.sqrt(ab**2 + ac**2)\n",
        "\n",
        "    print(f\"The length of the hypothenuse is {bc}\")\n",
        "\n",
        "if __name__ == \"__main__\":\n",
        "    main()\n",
        "\n"
      ],
      "metadata": {
        "id": "zsNHIndY46At"
      },
      "execution_count": null,
      "outputs": []
    },
    {
      "cell_type": "code",
      "source": [
        "def main():\n",
        "\n",
        "    dividend: int = int(input(\"\\033[1;3m Please enter an integer to be divided: \\033[0m\"))\n",
        "    divisor: int = int(input(\"\\033[1;3m Please enter an integer to divide by: \\033[0m\"))\n",
        "\n",
        "    quotient: int = dividend // divisor\n",
        "    remainder: int = dividend % divisor\n",
        "\n",
        "    print(\"The result of this division is \" + str(quotient) + \" with a remainder of \" + str(remainder))\n",
        "\n",
        "\n",
        "if __name__ == '__main__':\n",
        "    main()"
      ],
      "metadata": {
        "id": "NzU8IfCz49Vw"
      },
      "execution_count": null,
      "outputs": []
    },
    {
      "cell_type": "code",
      "source": [
        "DAYS_IN_YEAR = 365\n",
        "HOURS_IN_DAY = 24\n",
        "MIN_PER_HOUR = 60\n",
        "SEC_PER_MIN = 60\n",
        "\n",
        "def main():\n",
        "\n",
        "    total_seconds = DAYS_IN_YEAR * HOURS_IN_DAY * MIN_PER_HOUR * SEC_PER_MIN\n",
        "\n",
        "    print(f\"there are {total_seconds} seconds in a year\")\n",
        "\n",
        "if __name__ == \"__main__\":\n",
        "    main()"
      ],
      "metadata": {
        "id": "txTvNmiU5CSv"
      },
      "execution_count": null,
      "outputs": []
    },
    {
      "cell_type": "code",
      "source": [
        "SENTENCE_START : str = \"Panaversityis fun. I Learned to program and used python to make my \"\n",
        "\n",
        "\n",
        "def main():\n",
        "    adjective : str = input(\"\\033[1;3m Enter an adjective: \\033[0m\")\n",
        "    noun : str = input(\"\\033[1;3m Enter a noun and press enter: \\033[0m\")\n",
        "    verb : str = input(\"\\033[1;3m Enter a verb and press enter: \\033[0m\")\n",
        "\n",
        "    print(SENTENCE_START + adjective + \" \" + noun + \" \"+ verb + \".\")\n",
        "\n",
        "if __name__ == \"__main__\":\n",
        "    main()\n"
      ],
      "metadata": {
        "id": "cb3pltEc5GPb"
      },
      "execution_count": null,
      "outputs": []
    }
  ]
}